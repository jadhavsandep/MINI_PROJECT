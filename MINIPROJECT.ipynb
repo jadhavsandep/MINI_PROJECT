{
 "cells": [
  {
   "cell_type": "markdown",
   "id": "124db5ec",
   "metadata": {},
   "source": [
    "## in this mini- project , we want to:\n",
    "#1.print a welcome message to the user\n",
    "#2. take a  string and a letter from the user\n",
    "#3. count how many times this letter occurred\n",
    "#4. calculate the precentange of the letter in the message\n",
    "#5. print the outputs to the user"
   ]
  },
  {
   "cell_type": "markdown",
   "id": "81f0cb11",
   "metadata": {},
   "source": [
    "## PRINT THE WELCOME MESSAGE"
   ]
  },
  {
   "cell_type": "code",
   "execution_count": 1,
   "id": "25bfa97e",
   "metadata": {},
   "outputs": [
    {
     "name": "stdout",
     "output_type": "stream",
     "text": [
      "welcome to the first mini project! i am an application that a message and a letter from you. my task is to count how many times this letter occurred and to calculate its percentage\n"
     ]
    }
   ],
   "source": [
    "print(\"welcome to the first mini project! i am an application that a message and a letter from you. my task is to count how many times this letter occurred and to calculate its percentage\")"
   ]
  },
  {
   "cell_type": "markdown",
   "id": "0eb919b7",
   "metadata": {},
   "source": [
    "## GET THE USER INPUTS"
   ]
  },
  {
   "cell_type": "code",
   "execution_count": 2,
   "id": "12506b21",
   "metadata": {},
   "outputs": [
    {
     "name": "stdout",
     "output_type": "stream",
     "text": [
      "a\n"
     ]
    },
    {
     "data": {
      "text/plain": [
       "'a'"
      ]
     },
     "execution_count": 2,
     "metadata": {},
     "output_type": "execute_result"
    }
   ],
   "source": [
    "input()"
   ]
  },
  {
   "cell_type": "code",
   "execution_count": 3,
   "id": "a96e4ff8",
   "metadata": {},
   "outputs": [
    {
     "name": "stdout",
     "output_type": "stream",
     "text": [
      "sandeep\n"
     ]
    }
   ],
   "source": [
    "user_message= input()"
   ]
  },
  {
   "cell_type": "code",
   "execution_count": 4,
   "id": "7b4e0607",
   "metadata": {},
   "outputs": [
    {
     "name": "stdout",
     "output_type": "stream",
     "text": [
      "sandeep\n"
     ]
    }
   ],
   "source": [
    "print(user_message)"
   ]
  },
  {
   "cell_type": "code",
   "execution_count": 11,
   "id": "fd004e1f",
   "metadata": {},
   "outputs": [
    {
     "name": "stdout",
     "output_type": "stream",
     "text": [
      "please enter your message this poem is so goooood\n",
      "please enter the letter o\n"
     ]
    }
   ],
   "source": [
    "user_message= input(\"please enter your message \")\n",
    "user_letter= input(\"please enter the letter \")\n"
   ]
  },
  {
   "cell_type": "markdown",
   "id": "c340a15d",
   "metadata": {},
   "source": [
    "## COUNT THE OCCURRENCES"
   ]
  },
  {
   "cell_type": "code",
   "execution_count": 13,
   "id": "ec52cc55",
   "metadata": {},
   "outputs": [
    {
     "data": {
      "text/plain": [
       "23"
      ]
     },
     "execution_count": 13,
     "metadata": {},
     "output_type": "execute_result"
    }
   ],
   "source": [
    "len(user_message)"
   ]
  },
  {
   "cell_type": "code",
   "execution_count": 14,
   "id": "5af75dd2",
   "metadata": {},
   "outputs": [
    {
     "data": {
      "text/plain": [
       "'THIS POEM IS SO GOOOOOD'"
      ]
     },
     "execution_count": 14,
     "metadata": {},
     "output_type": "execute_result"
    }
   ],
   "source": [
    "user_message.upper()"
   ]
  },
  {
   "cell_type": "code",
   "execution_count": 15,
   "id": "9df3fbd1",
   "metadata": {},
   "outputs": [
    {
     "data": {
      "text/plain": [
       "7"
      ]
     },
     "execution_count": 15,
     "metadata": {},
     "output_type": "execute_result"
    }
   ],
   "source": [
    "user_message.count(\"o\")"
   ]
  },
  {
   "cell_type": "markdown",
   "id": "3b0950be",
   "metadata": {},
   "source": [
    "## CALCULATE THE PERCENTAGE"
   ]
  },
  {
   "cell_type": "code",
   "execution_count": 16,
   "id": "4de9cbec",
   "metadata": {},
   "outputs": [
    {
     "data": {
      "text/plain": [
       "'this poem is so goooood'"
      ]
     },
     "execution_count": 16,
     "metadata": {},
     "output_type": "execute_result"
    }
   ],
   "source": [
    "user_message"
   ]
  },
  {
   "cell_type": "code",
   "execution_count": 26,
   "id": "4f67761f",
   "metadata": {},
   "outputs": [],
   "source": [
    "count = user_message.count(\"o\")"
   ]
  },
  {
   "cell_type": "code",
   "execution_count": 27,
   "id": "83483412",
   "metadata": {},
   "outputs": [
    {
     "name": "stdout",
     "output_type": "stream",
     "text": [
      "0.30434782608695654\n"
     ]
    }
   ],
   "source": [
    "len_message = len(user_message)\n",
    "perc = count/len_message\n",
    "print(perc)"
   ]
  },
  {
   "cell_type": "code",
   "execution_count": 28,
   "id": "308581e1",
   "metadata": {},
   "outputs": [
    {
     "name": "stdout",
     "output_type": "stream",
     "text": [
      "30.434782608695656\n"
     ]
    }
   ],
   "source": [
    "len_message = len(user_message)\n",
    "perc = count/len_message*100\n",
    "print(perc)"
   ]
  },
  {
   "cell_type": "markdown",
   "id": "a1322aef",
   "metadata": {},
   "source": [
    "## PRINT THE OUTPUT TO THE USER"
   ]
  },
  {
   "cell_type": "code",
   "execution_count": 30,
   "id": "2af5e928",
   "metadata": {},
   "outputs": [
    {
     "name": "stdout",
     "output_type": "stream",
     "text": [
      " the count of the letter o is  7\n",
      "the percentage of the letter o is 30.434782608695656\n"
     ]
    }
   ],
   "source": [
    "print(\" the count of the letter\", user_letter,\"is \",count)\n",
    "print(\"the percentage of the letter\", user_letter,\"is\",perc)"
   ]
  },
  {
   "cell_type": "code",
   "execution_count": null,
   "id": "cbb9ec51",
   "metadata": {},
   "outputs": [],
   "source": [
    "## THANK YOU"
   ]
  }
 ],
 "metadata": {
  "kernelspec": {
   "display_name": "Python 3 (ipykernel)",
   "language": "python",
   "name": "python3"
  },
  "language_info": {
   "codemirror_mode": {
    "name": "ipython",
    "version": 3
   },
   "file_extension": ".py",
   "mimetype": "text/x-python",
   "name": "python",
   "nbconvert_exporter": "python",
   "pygments_lexer": "ipython3",
   "version": "3.11.5"
  }
 },
 "nbformat": 4,
 "nbformat_minor": 5
}
